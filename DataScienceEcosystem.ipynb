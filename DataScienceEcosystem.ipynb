{
  "metadata": {
    "kernelspec": {
      "name": "python",
      "display_name": "Python (Pyodide)",
      "language": "python"
    },
    "language_info": {
      "codemirror_mode": {
        "name": "python",
        "version": 3
      },
      "file_extension": ".py",
      "mimetype": "text/x-python",
      "name": "python",
      "nbconvert_exporter": "python",
      "pygments_lexer": "ipython3",
      "version": "3.8"
    }
  },
  "nbformat_minor": 4,
  "nbformat": 4,
  "cells": [
    {
      "cell_type": "code",
      "source": "# Data Science Tools and Ecosystem",
      "metadata": {
        "trusted": true
      },
      "outputs": [],
      "execution_count": null
    },
    {
      "cell_type": "markdown",
      "source": "# Data Science Tools and Ecosystem",
      "metadata": {}
    },
    {
      "cell_type": "code",
      "source": "## In this notebook, Data Science Tools and Ecosystem are summarized.",
      "metadata": {
        "trusted": true
      },
      "outputs": [],
      "execution_count": null
    },
    {
      "cell_type": "markdown",
      "source": "## In this notebook, Data Science Tools and Ecosystem are summarized.",
      "metadata": {}
    },
    {
      "cell_type": "code",
      "source": "### Some of the popular languages that Data Scientists use are:\n1. Python\n2. SQL\n3. R\n4. Java",
      "metadata": {
        "trusted": true
      },
      "outputs": [],
      "execution_count": null
    },
    {
      "cell_type": "markdown",
      "source": "### Some of the popular languages that Data Scientists use are:\n1. Python\n2. SQL\n3. R\n4. Java",
      "metadata": {}
    },
    {
      "cell_type": "code",
      "source": "### Objectives:\n- Know and understand the different categories of data science tools\n- Get Familiarize with the popular languages for data science such as Python, SQL and R\n- Learn the basics of Jupyter Notebooks",
      "metadata": {
        "trusted": true
      },
      "outputs": [],
      "execution_count": null
    },
    {
      "cell_type": "markdown",
      "source": "### Objectives:\n- Know and understand the different categories of data science tools\n- Get Familiarize with the popular languages for data science such as Python, SQL and R\n- Learn the basics of Jupyter Notebooks",
      "metadata": {}
    },
    {
      "cell_type": "code",
      "source": "### Some of the commonly used libraries used by Data Scientists include:\n- NumPy\n- Matplotlib\n- Pandas",
      "metadata": {
        "trusted": true
      },
      "outputs": [],
      "execution_count": null
    },
    {
      "cell_type": "markdown",
      "source": "### Some of the commonly used libraries used by Data Scientists include:\n- NumPy\n- Matplotlib\n- Pandas",
      "metadata": {}
    },
    {
      "cell_type": "code",
      "source": "| Data Science Tools |\n| ------------ |\n| Jupyter Notebooks |\n| Microsoft Excel |\n| Tableau |\n| Scikit-learn |",
      "metadata": {
        "trusted": true
      },
      "outputs": [],
      "execution_count": null
    },
    {
      "cell_type": "markdown",
      "source": "| Data Science Tools |\n| ------------ |\n| Jupyter Notebooks |\n| Microsoft Excel |\n| Tableau |\n| Scikit-learn |",
      "metadata": {}
    },
    {
      "cell_type": "code",
      "source": "### Below are a few examples of evaluating arithmetic expressions in Python\n#### addition operation\n2 + 2\n#### multiplication operation\n5 * 3",
      "metadata": {
        "trusted": true
      },
      "outputs": [],
      "execution_count": null
    },
    {
      "cell_type": "markdown",
      "source": "### Below are a few examples of evaluating arithmetic expressions in Python\n#### addition operation\n2 + 2\n#### multiplication operation\n5 * 3",
      "metadata": {}
    },
    {
      "cell_type": "code",
      "source": "### This a simple arithmetic expression to mutiply then add integers\n#### (3*4)+5\n(3*4)+5",
      "metadata": {
        "trusted": true
      },
      "outputs": [
        {
          "execution_count": 7,
          "output_type": "execute_result",
          "data": {
            "text/plain": "17"
          },
          "metadata": {}
        }
      ],
      "execution_count": 7
    },
    {
      "cell_type": "code",
      "source": "### This will convert 200 minutes to hours by diving by 60\n(200)/60 ",
      "metadata": {
        "trusted": true
      },
      "outputs": [
        {
          "execution_count": 10,
          "output_type": "execute_result",
          "data": {
            "text/plain": "3.3333333333333335"
          },
          "metadata": {}
        }
      ],
      "execution_count": 10
    },
    {
      "cell_type": "code",
      "source": "## Author\n## Franzelino Abella",
      "metadata": {
        "trusted": true
      },
      "outputs": [],
      "execution_count": 11
    },
    {
      "cell_type": "markdown",
      "source": "## Author\n## Franzelino Abella",
      "metadata": {}
    },
    {
      "cell_type": "code",
      "source": "",
      "metadata": {
        "trusted": true
      },
      "outputs": [],
      "execution_count": null
    }
  ]
}